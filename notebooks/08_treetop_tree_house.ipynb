{
 "cells": [
  {
   "cell_type": "markdown",
   "metadata": {},
   "source": [
    "# Advent of code 2022: Day 8. Treetop Tree House"
   ]
  },
  {
   "cell_type": "markdown",
   "metadata": {},
   "source": [
    "- Daniel Cerdán Vélez.\n",
    "- Thursday, December 8, 2022"
   ]
  },
  {
   "cell_type": "code",
   "execution_count": 1,
   "metadata": {},
   "outputs": [],
   "source": [
    "import numpy as np"
   ]
  },
  {
   "cell_type": "markdown",
   "metadata": {},
   "source": [
    "### --- Day 8: Treetop Tree House ---\n",
    "\n",
    "The expedition comes across a peculiar patch of tall trees all planted carefully in a grid. The Elves explain that a previous expedition planted these trees as a reforestation effort. Now, they're curious if this would be a good location for a [tree house](https://en.wikipedia.org/wiki/Tree_house).\n",
    "\n",
    "First, determine whether there is enough tree cover here to keep a tree house **hidden**. To do this, you need to count the number of trees that are **visible from outside the grid** when looking directly along a row or column.\n",
    "\n",
    "The Elves have already launched a [quadcopter](https://en.wikipedia.org/wiki/Quadcopter) to generate a map with the height of each tree (your puzzle input). For example:\n",
    "```\n",
    "30373\n",
    "25512\n",
    "65332\n",
    "33549\n",
    "35390\n",
    "```\n",
    "Each tree is represented as a single digit whose value is its height, where `0` is the shortest and `9` is the tallest.\n",
    "\n",
    "A tree is **visible** if all of the other trees between it and an edge of the grid are **shorter** than it. Only consider trees in the same row or column; that is, only look up, down, left, or right from any given tree.\n",
    "\n",
    "All of the trees around the edge of the grid are **visible** - since they are already on the edge, there are no trees to block the view. In this example, that only leaves the **interior nine trees** to consider:\n",
    "\n",
    "- The top-left `5` is **visible** from the left and top. (It isn't visible from the right or bottom since other trees of height `5` are in the way.)\n",
    "- The top-middle `5` is **visible** from the top and right.\n",
    "- The top-right `1` is not visible from any direction; for it to be visible, there would need to only be trees of height **0** between it and an edge.\n",
    "- The left-middle `5` is **visible**, but only from the right.\n",
    "- The center `3` is not visible from any direction; for it to be visible, there would need to be only trees of at most height `2` between it and an edge.\n",
    "- The right-middle `3` is **visible** from the right.\n",
    "- In the bottom row, the middle `5` is **visible**, but the `3` and `4` are not.\n",
    "\n",
    "With 16 trees visible on the edge and another 5 visible in the interior, a total of **`21`** trees are visible in this arrangement.\n",
    "\n",
    "Consider your map; **how many trees are visible from outside the grid?**"
   ]
  },
  {
   "cell_type": "code",
   "execution_count": 2,
   "metadata": {},
   "outputs": [],
   "source": [
    "with open(\"../data/input_08.txt\",\"rt\") as infile:\n",
    "    grid = np.array([list(line.strip()) for line in infile.readlines()]).astype(int)"
   ]
  },
  {
   "cell_type": "code",
   "execution_count": 3,
   "metadata": {},
   "outputs": [
    {
     "name": "stdout",
     "output_type": "stream",
     "text": [
      "1763\n"
     ]
    }
   ],
   "source": [
    "def is_visible(grid, i , j):\n",
    "    \n",
    "    height = grid[i,j]\n",
    "    \n",
    "    up = np.max(grid[0:i,j])\n",
    "    down = np.max(grid[i+1:grid.shape[0],j])\n",
    "    left = np.max(grid[i,0:j])\n",
    "    right = np.max(grid[i,j+1:grid.shape[1]])\n",
    "    \n",
    "    neightbours = [up, down, left, right]\n",
    "    if min(neightbours) >= height:\n",
    "        return 0\n",
    "    else:\n",
    "        return 1\n",
    "        \n",
    "\n",
    "visible = np.ones(grid.shape)\n",
    "for i in range(1,grid.shape[0]-1):\n",
    "    for j in range(1,grid.shape[1]-1):\n",
    "        visible[i,j] = is_visible(grid, i , j)\n",
    "\n",
    "print(int(visible.sum()))"
   ]
  },
  {
   "cell_type": "markdown",
   "metadata": {},
   "source": [
    "### --- Part Two ---\n",
    "\n",
    "Content with the amount of tree cover available, the Elves just need to know the best spot to build their tree house: they would like to be able to see a lot of **trees**.\n",
    "\n",
    "To measure the viewing distance from a given tree, look up, down, left, and right from that tree; stop if you reach an edge or at the first tree that is the same height or taller than the tree under consideration. (If a tree is right on the edge, at least one of its viewing distances will be zero.)\n",
    "\n",
    "The Elves don't care about distant trees taller than those found by the rules above; the proposed tree house has large [eaves](https://en.wikipedia.org/wiki/Eaves) to keep it dry, so they wouldn't be able to see higher than the tree house anyway.\n",
    "\n",
    "In the example above, consider the middle `5` in the second row:\n",
    "```\n",
    "30373\n",
    "25512\n",
    "65332\n",
    "33549\n",
    "35390\n",
    "```\n",
    "- Looking up, its view is not blocked; it can see **`1`** tree (of height `3`).\n",
    "- Looking left, its view is blocked immediately; it can see only **`1`** tree (of height `5`, right next to it).\n",
    "- Looking right, its view is not blocked; it can see **`2`** trees.\n",
    "- Looking down, its view is blocked eventually; it can see **`2`** trees (one of height `3`, then the tree of height `5` that blocks its view).\n",
    "\n",
    "A tree's **scenic score** is found by **multiplying together** its viewing distance in each of the four directions. For this tree, this is **`4`** (found by multiplying `1 * 1 * 2 * 2`).\n",
    "\n",
    "However, you can do even better: consider the tree of height `5` in the middle of the fourth row:\n",
    "```\n",
    "30373\n",
    "25512\n",
    "65332\n",
    "33549\n",
    "35390\n",
    "```\n",
    "- Looking up, its view is blocked at **`2`** trees (by another tree with a height of `5`).\n",
    "- Looking left, its view is not blocked; it can see **`2`** trees.\n",
    "- Looking down, its view is also not blocked; it can see **`1`** tree.\n",
    "- Looking right, its view is blocked at **`2`** trees (by a massive tree of height `9`).\n",
    "\n",
    "This tree's scenic score is **`8`** (`2 * 2 * 1 * 2`); this is the ideal spot for the tree house.\n",
    "\n",
    "Consider each tree on your map. **What is the highest scenic score possible for any tree?**"
   ]
  },
  {
   "cell_type": "code",
   "execution_count": 4,
   "metadata": {},
   "outputs": [
    {
     "name": "stdout",
     "output_type": "stream",
     "text": [
      "671160\n"
     ]
    }
   ],
   "source": [
    "def get_distance(vector, height, reverse):\n",
    "    if reverse:\n",
    "        vector = np.flip(vector)\n",
    "    num_trees = 0\n",
    "    for i in range(0,len(vector)):\n",
    "        num_trees += 1\n",
    "        if vector[i] >= height:\n",
    "            break\n",
    "    return num_trees\n",
    "\n",
    "\n",
    "def calculate_distance(grid, i , j):\n",
    "    \n",
    "    height = grid[i,j]\n",
    "    \n",
    "    up = get_distance(grid[0:i,j], height, True)\n",
    "    down = get_distance(grid[i+1:grid.shape[0],j], height, False)\n",
    "    left = get_distance(grid[i,0:j], height, True)\n",
    "    right = get_distance(grid[i,j+1:grid.shape[1]], height, False)\n",
    "    \n",
    "    return up*down*left*right\n",
    "\n",
    "\n",
    "scenic_scores = np.zeros(grid.shape)\n",
    "\n",
    "for i in range(1,grid.shape[0]-1):\n",
    "    for j in range(1,grid.shape[1]-1):\n",
    "        scenic_scores[i,j] = calculate_distance(grid, i , j)\n",
    "\n",
    "print(int(scenic_scores.max()))"
   ]
  }
 ],
 "metadata": {
  "kernelspec": {
   "display_name": "Python 3",
   "language": "python",
   "name": "python3"
  },
  "language_info": {
   "codemirror_mode": {
    "name": "ipython",
    "version": 3
   },
   "file_extension": ".py",
   "mimetype": "text/x-python",
   "name": "python",
   "nbconvert_exporter": "python",
   "pygments_lexer": "ipython3",
   "version": "3.8.3"
  }
 },
 "nbformat": 4,
 "nbformat_minor": 5
}
