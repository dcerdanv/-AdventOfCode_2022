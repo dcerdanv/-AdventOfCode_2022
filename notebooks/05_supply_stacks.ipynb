{
 "cells": [
  {
   "cell_type": "markdown",
   "id": "073616c7",
   "metadata": {},
   "source": [
    "# Advent of code 2022: Day 5. Supply Stacks"
   ]
  },
  {
   "cell_type": "markdown",
   "id": "d56ad98c",
   "metadata": {},
   "source": [
    "- Daniel Cerdán Vélez.\n",
    "- Monday, December 5, 2022"
   ]
  },
  {
   "cell_type": "code",
   "execution_count": 1,
   "id": "57543614",
   "metadata": {},
   "outputs": [],
   "source": [
    "import re\n",
    "import numpy as np"
   ]
  },
  {
   "cell_type": "markdown",
   "id": "75e59a31",
   "metadata": {},
   "source": [
    "### --- Day 5: Supply Stacks ---\n",
    "\n",
    "The expedition can depart as soon as the final supplies have been unloaded from the ships. Supplies are stored in stacks of marked crates, but because the needed supplies are buried under many other **crates**, the crates need to be rearranged.\n",
    "\n",
    "The ship has a **giant cargo crane** capable of moving crates between stacks. To ensure none of the crates get crushed or fall over, the crane operator will rearrange them in a series of carefully-planned steps. After the crates are rearranged, the desired crates will be at the top of each stack.\n",
    "\n",
    "The Elves don't want to interrupt the crane operator during this delicate procedure, but they forgot to ask her **which** crate will end up where, and they want to be ready to unload them as soon as possible so they can embark.\n",
    "\n",
    "They do, however, have a drawing of the starting stacks of crates **and** the rearrangement procedure (your puzzle input). For example:\n",
    "```\n",
    "    [D]    \n",
    "[N] [C]    \n",
    "[Z] [M] [P]\n",
    " 1   2   3 \n",
    "\n",
    "move 1 from 2 to 1\n",
    "move 3 from 1 to 3\n",
    "move 2 from 2 to 1\n",
    "move 1 from 1 to 2\n",
    "```\n",
    "In this example, there are three stacks of crates. Stack 1 contains two crates: crate `Z` is on the bottom, and crate `N` is on top. Stack 2 contains three crates; from bottom to top, they are crates `M`, `C`, and `D`. Finally, stack 3 contains a single crate, `P`.\n",
    "\n",
    "Then, the rearrangement procedure is given. In each step of the procedure, a quantity of crates is moved from one stack to a different stack. In the first step of the above rearrangement procedure, one crate is moved from stack 2 to stack 1, resulting in this configuration:\n",
    "```\n",
    "[D]        \n",
    "[N] [C]    \n",
    "[Z] [M] [P]\n",
    " 1   2   3 \n",
    "```\n",
    "In the second step, three crates are moved from stack 1 to stack 3. Crates are moved **one at a time**, so the first crate to be moved (`D`) ends up below the second and third crates:\n",
    "```\n",
    "        [Z]\n",
    "        [N]\n",
    "    [C] [D]\n",
    "    [M] [P]\n",
    " 1   2   3\n",
    "```\n",
    "Then, both crates are moved from stack 2 to stack 1. Again, because crates are moved **one at a time**, crate `C` ends up below crate `M`:\n",
    "```\n",
    "        [Z]\n",
    "        [N]\n",
    "[M]     [D]\n",
    "[C]     [P]\n",
    " 1   2   3\n",
    "```\n",
    "Finally, one crate is moved from stack 1 to stack 2:\n",
    "```\n",
    "        [Z]\n",
    "        [N]\n",
    "        [D]\n",
    "[C] [M] [P]\n",
    " 1   2   3\n",
    "```\n",
    "The Elves just need to know **which crate will end up on top of each stack**; in this example, the top crates are `C` in stack 1, `M` in stack 2, and `Z` in stack 3, so you should combine these together and give the Elves the message **`CMZ`**.\n",
    "\n",
    "**After the rearrangement procedure completes, what crate ends up on top of each stack?**"
   ]
  },
  {
   "cell_type": "code",
   "execution_count": 2,
   "id": "54a9d847",
   "metadata": {},
   "outputs": [],
   "source": [
    "with open(\"../data/input_05.txt\", \"r\") as myfile:\n",
    "    mylines = myfile.read()\n",
    "    \n",
    "parts = mylines.split(\"\\n\\n\")\n",
    "lines =  [re.split(\"    | \",x) for x in parts[0].split(\"\\n\")[:-1]]\n",
    "moves = parts[1].split(\"\\n\")"
   ]
  },
  {
   "cell_type": "code",
   "execution_count": 3,
   "id": "ee75cfe8",
   "metadata": {
    "scrolled": true
   },
   "outputs": [
    {
     "name": "stdout",
     "output_type": "stream",
     "text": [
      "BWNCQRMDB\n"
     ]
    }
   ],
   "source": [
    "def get_crates(lines):\n",
    "    \n",
    "    matriz = np.asmatrix(lines)\n",
    "    matriz = matriz.transpose()\n",
    "    matriz = matriz.tolist()\n",
    "    for i in range(len(matriz)):\n",
    "        aux = []\n",
    "        for string in matriz[i]:\n",
    "            if string != \"\":\n",
    "                aux.append(string)\n",
    "        matriz[i] = aux[::-1]\n",
    "    \n",
    "    return matriz\n",
    "\n",
    "\n",
    "def get_moves(moves):\n",
    "    \n",
    "    return [re.findall(r'\\d+',xi)  for xi in moves[:-1]]\n",
    "\n",
    "\n",
    "def make_move(num, origin, destiny, crates):\n",
    "    for i in range(num):\n",
    "        element = crates[origin-1].pop()\n",
    "        crates[destiny-1].append(element)\n",
    "\n",
    "        \n",
    "crates = get_crates(lines)\n",
    "clean_moves = get_moves(moves)\n",
    "\n",
    "for move in clean_moves:\n",
    "    num = int(move[0])\n",
    "    origin = int(move[1])\n",
    "    destiny = int(move[2])\n",
    "    make_move(num, origin, destiny, crates)\n",
    "\n",
    "result = \"\".join([re.findall(r'(\\[(\\w)\\])', x[-1])[0][1] for x in crates])\n",
    "print(result)"
   ]
  },
  {
   "cell_type": "markdown",
   "id": "45b13ebe",
   "metadata": {},
   "source": [
    "### --- Part Two ---\n",
    "\n",
    "As you watch the crane operator expertly rearrange the crates, you notice the process isn't following your prediction.\n",
    "\n",
    "Some mud was covering the writing on the side of the crane, and you quickly wipe it away. The crane isn't a CrateMover 9000 - it's a **CrateMover 9001.**\n",
    "\n",
    "The CrateMover 9001 is notable for many new and exciting features: air conditioning, leather seats, an extra cup holder, and **the ability to pick up and move multiple crates at once.**\n",
    "\n",
    "Again considering the example above, the crates begin in the same configuration:\n",
    "```\n",
    "    [D]    \n",
    "[N] [C]    \n",
    "[Z] [M] [P]\n",
    " 1   2   3 \n",
    "```\n",
    "Moving a single crate from stack 2 to stack 1 behaves the same as before:\n",
    "```\n",
    "[D]        \n",
    "[N] [C]    \n",
    "[Z] [M] [P]\n",
    " 1   2   3 \n",
    "```\n",
    "However, the action of moving three crates from stack 1 to stack 3 means that those three moved crates **stay in the same order**, resulting in this new configuration:\n",
    "```\n",
    "        [D]\n",
    "        [N]\n",
    "    [C] [Z]\n",
    "    [M] [P]\n",
    " 1   2   3\n",
    "```\n",
    "Next, as both crates are moved from stack 2 to stack 1, they **retain their order** as well:\n",
    "```\n",
    "        [D]\n",
    "        [N]\n",
    "[C]     [Z]\n",
    "[M]     [P]\n",
    " 1   2   3\n",
    "```\n",
    "Finally, a single crate is still moved from stack 1 to stack 2, but now it's crate `C` that gets moved:\n",
    "```\n",
    "        [D]\n",
    "        [N]\n",
    "        [Z]\n",
    "[M] [C] [P]\n",
    " 1   2   3\n",
    "```\n",
    "In this example, the CrateMover 9001 has put the crates in a totally different order: **`MCD`**.\n",
    "\n",
    "Before the rearrangement process finishes, update your simulation so that the Elves know where they should stand to be ready to unload the final supplies. **After the rearrangement procedure completes, what crate ends up on top of each stack?**"
   ]
  },
  {
   "cell_type": "code",
   "execution_count": 4,
   "id": "346dae75",
   "metadata": {},
   "outputs": [
    {
     "name": "stdout",
     "output_type": "stream",
     "text": [
      "NHWZCBNBF\n"
     ]
    }
   ],
   "source": [
    "def make_move_2(num, origin, destiny, crates):\n",
    "    elements = crates[origin-1][-num:]\n",
    "    crates[origin-1] = crates[origin-1][:-num]\n",
    "    crates[destiny-1] = crates[destiny-1] + elements\n",
    "\n",
    "    \n",
    "crates_2 = get_crates(lines)\n",
    "\n",
    "for move in clean_moves:\n",
    "    num = int(move[0])\n",
    "    origin = int(move[1])\n",
    "    destiny = int(move[2])\n",
    "\n",
    "    make_move_2(num, origin, destiny, crates_2)\n",
    "\n",
    "result_2 = \"\".join([re.findall(r'(\\[(\\w)\\])', x[-1])[0][1] for x in crates_2])\n",
    "print(result_2)"
   ]
  }
 ],
 "metadata": {
  "kernelspec": {
   "display_name": "Python 3 (ipykernel)",
   "language": "python",
   "name": "python3"
  },
  "language_info": {
   "codemirror_mode": {
    "name": "ipython",
    "version": 3
   },
   "file_extension": ".py",
   "mimetype": "text/x-python",
   "name": "python",
   "nbconvert_exporter": "python",
   "pygments_lexer": "ipython3",
   "version": "3.9.7"
  }
 },
 "nbformat": 4,
 "nbformat_minor": 5
}
